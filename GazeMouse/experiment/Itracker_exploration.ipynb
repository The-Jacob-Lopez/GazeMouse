{
  "cells": [
    {
      "cell_type": "markdown",
      "metadata": {
        "id": "856mZesRFMr0"
      },
      "source": [
        "## Imports"
      ]
    },
    {
      "cell_type": "code",
      "execution_count": null,
      "metadata": {
        "colab": {
          "base_uri": "https://localhost:8080/"
        },
        "id": "8nMJg4JxFoBu",
        "outputId": "9b467d41-7ee9-4a79-917f-a61409d49012"
      },
      "outputs": [
        {
          "name": "stdout",
          "output_type": "stream",
          "text": [
            "Mounted at /content/drive\n"
          ]
        }
      ],
      "source": [
        "from google.colab import drive\n",
        "drive.mount('/content/drive')"
      ]
    },
    {
      "cell_type": "code",
      "execution_count": 1,
      "metadata": {
        "id": "QBCkEOgJFKH5"
      },
      "outputs": [],
      "source": [
        "from pathlib import Path\n",
        "import torch\n",
        "import torchvision\n",
        "import torchvision.transforms as transforms\n",
        "import matplotlib.pyplot as plt\n",
        "import numpy as np\n",
        "from torch.profiler import profile, record_function, ProfilerActivity\n",
        "from src.model.ITrackerData import TrainITrackerData\n",
        "from src.model.ITrackerData import TestITrackerData\n",
        "from src.model.ITrackerModel import ITrackerModel\n"
      ]
    },
    {
      "cell_type": "code",
      "execution_count": null,
      "metadata": {
        "id": "MmWm22pmFKH-"
      },
      "outputs": [],
      "source": [
        "dataset_file = Path(\"/content/drive/MyDrive/Machine Learning System Design/Data/GazeCapture/eye_tracker_train_and_val.npz\")\n",
        "\n",
        "SAVE_DIR = Path(\"/content/drive/MyDrive/Machine Learning System Design/Data/Weights\")\n",
        "SAVE_BEST_FILE = SAVE_DIR / \"best_gazecapture_model.pth\"\n",
        "SAVE_RECENT_FILE = SAVE_DIR / \"last_gazecapture_model.pth\""
      ]
    },
    {
      "cell_type": "markdown",
      "metadata": {
        "id": "85bzNg-BFKH-"
      },
      "source": [
        "## Exploration"
      ]
    },
    {
      "cell_type": "code",
      "execution_count": null,
      "metadata": {
        "colab": {
          "base_uri": "https://localhost:8080/",
          "height": 250
        },
        "id": "kw_lyuRCFKIA",
        "outputId": "612e22f5-f758-4107-aba2-7aafb267c4eb"
      },
      "outputs": [
        {
          "ename": "NameError",
          "evalue": "ignored",
          "output_type": "error",
          "traceback": [
            "\u001b[0;31m---------------------------------------------------------------------------\u001b[0m",
            "\u001b[0;31mNameError\u001b[0m                                 Traceback (most recent call last)",
            "\u001b[0;32m<ipython-input-3-70af1a0e722d>\u001b[0m in \u001b[0;36m<cell line: 2>\u001b[0;34m()\u001b[0m\n\u001b[1;32m      1\u001b[0m \u001b[0;31m# Create datasets for training & validation, download if necessary\u001b[0m\u001b[0;34m\u001b[0m\u001b[0;34m\u001b[0m\u001b[0m\n\u001b[0;32m----> 2\u001b[0;31m \u001b[0mtraining_set\u001b[0m \u001b[0;34m=\u001b[0m \u001b[0mTrainITrackerData\u001b[0m\u001b[0;34m(\u001b[0m\u001b[0mstr\u001b[0m\u001b[0;34m(\u001b[0m\u001b[0mdataset_file\u001b[0m\u001b[0;34m)\u001b[0m\u001b[0;34m)\u001b[0m\u001b[0;34m\u001b[0m\u001b[0;34m\u001b[0m\u001b[0m\n\u001b[0m\u001b[1;32m      3\u001b[0m \u001b[0mvalidation_set\u001b[0m \u001b[0;34m=\u001b[0m \u001b[0mTestITrackerData\u001b[0m\u001b[0;34m(\u001b[0m\u001b[0mstr\u001b[0m\u001b[0;34m(\u001b[0m\u001b[0mdataset_file\u001b[0m\u001b[0;34m)\u001b[0m\u001b[0;34m)\u001b[0m\u001b[0;34m\u001b[0m\u001b[0;34m\u001b[0m\u001b[0m\n\u001b[1;32m      4\u001b[0m \u001b[0;34m\u001b[0m\u001b[0m\n\u001b[1;32m      5\u001b[0m \u001b[0;31m# Create data loaders for our datasets; shuffle for training, not for validation\u001b[0m\u001b[0;34m\u001b[0m\u001b[0;34m\u001b[0m\u001b[0m\n",
            "\u001b[0;31mNameError\u001b[0m: name 'dataset_file' is not defined"
          ]
        }
      ],
      "source": [
        "# Create datasets for training & validation, download if necessary\n",
        "training_set = TrainITrackerData(str(dataset_file))\n",
        "validation_set = TestITrackerData(str(dataset_file))\n",
        "\n",
        "# Create data loaders for our datasets; shuffle for training, not for validation\n",
        "training_loader = torch.utils.data.DataLoader(training_set, batch_size=4, shuffle=True)\n",
        "validation_loader = torch.utils.data.DataLoader(validation_set, batch_size=4, shuffle=False)\n",
        "\n",
        "# Report split sizes\n",
        "print('Training set has {} instances'.format(len(training_set)))\n",
        "print('Validation set has {} instances'.format(len(validation_set)))"
      ]
    },
    {
      "cell_type": "code",
      "execution_count": null,
      "metadata": {
        "id": "z06mzGM7FKIC"
      },
      "outputs": [],
      "source": [
        "dataiter = iter(training_loader)\n",
        "face, eye_left, eye_right, face_mask, y = next(dataiter)\n"
      ]
    },
    {
      "cell_type": "code",
      "execution_count": null,
      "metadata": {
        "id": "lfb_jQRuFKID"
      },
      "outputs": [],
      "source": [
        "dataiter = iter(training_loader)\n",
        "face, eye_left, eye_right, face_mask, y = next(dataiter)\n",
        "\n",
        "# Create a grid from the images and show them\n",
        "plt.imshow(np.transpose(face.numpy()[0], (1, 2, 0)))"
      ]
    },
    {
      "cell_type": "code",
      "execution_count": null,
      "metadata": {
        "id": "H6NZbmuKFKID"
      },
      "outputs": [],
      "source": [
        "face[0].numpy().shape\n",
        "eye_left[0].numpy().shape"
      ]
    },
    {
      "cell_type": "markdown",
      "metadata": {
        "id": "OzTNnqLsFKIE"
      },
      "source": [
        "## Training"
      ]
    },
    {
      "cell_type": "code",
      "execution_count": null,
      "metadata": {
        "id": "6lpqdyPWFKIF"
      },
      "outputs": [],
      "source": [
        "# Hyperparameters\n",
        "device = torch.device(\"cuda:0\")\n",
        "num_workers = 2\n",
        "pin_memory = True\n",
        "\n",
        "lr = 3e-3\n",
        "batch_size = 1024\n",
        "print_per_epoch = 10\n",
        "\n",
        "model = ITrackerModel().to(device)\n",
        "loss_fn = torch.nn.MSELoss()\n",
        "optimizer = torch.optim.Adam(model.parameters(), lr)\n",
        "scaler = torch.cuda.amp.GradScaler()"
      ]
    },
    {
      "cell_type": "code",
      "execution_count": null,
      "metadata": {
        "id": "qAHcYvTaFKIG"
      },
      "outputs": [],
      "source": [
        "# Create datasets for training & validation, download if necessary\n",
        "training_set = TrainITrackerData(str(dataset_file))\n",
        "validation_set = TestITrackerData(str(dataset_file))\n",
        "\n",
        "# Create data loaders for our datasets; shuffle for training, not for validation\n",
        "training_loader = torch.utils.data.DataLoader(training_set, batch_size=batch_size, shuffle=True, pin_memory=pin_memory, num_workers=num_workers)\n",
        "validation_loader = torch.utils.data.DataLoader(validation_set, batch_size=batch_size, shuffle=False, pin_memory=pin_memory, num_workers=num_workers)"
      ]
    },
    {
      "cell_type": "code",
      "execution_count": null,
      "metadata": {
        "id": "RW868NosFKIH"
      },
      "outputs": [],
      "source": [
        "def train_one_epoch(epoch_index):\n",
        "    running_loss = 0.\n",
        "    last_loss = 0.\n",
        "\n",
        "    # Here, we use enumerate(training_loader) instead of\n",
        "    # iter(training_loader) so that we can track the batch\n",
        "    # index and do some intra-epoch reporting\n",
        "    for i, data in enumerate(training_loader):\n",
        "        # Every data instance is an input + label pair\n",
        "        faces, eyes_left, eyes_right, face_masks, labels = data\n",
        "\n",
        "        # Send all tensors to device\n",
        "        faces, eyes_left, eyes_right, face_masks, labels = \\\n",
        "            faces.to(device),\\\n",
        "            eyes_left.to(device),\\\n",
        "            eyes_right.to(device),\\\n",
        "            face_masks.to(device),\\\n",
        "            labels.to(device)\n",
        "        # Zero your gradients for every batch!\n",
        "        optimizer.zero_grad()\n",
        "\n",
        "        # Make predictions for this batch\n",
        "        outputs = model(faces, eyes_left, eyes_right, face_masks)\n",
        "\n",
        "        # Compute the loss and its gradients\n",
        "        loss = loss_fn(outputs, labels)\n",
        "\n",
        "        # Scale gradient\n",
        "        scaler.scale(loss).backward()\n",
        "\n",
        "        # Update Optimizer\n",
        "        scaler.step(optimizer)\n",
        "        scaler.update()\n",
        "\n",
        "        # Gather data and report\n",
        "        running_loss += loss.item()\n",
        "        if i % 1 == 0:\n",
        "            last_loss = running_loss / 1000 # loss per batch\n",
        "            print('  batch {}/{} loss: {}'.format(i + 1, len(training_loader), last_loss))\n",
        "            tb_x = epoch_index * len(training_loader) + i + 1\n",
        "            running_loss = 0.\n",
        "\n",
        "    return last_loss"
      ]
    },
    {
      "cell_type": "code",
      "execution_count": null,
      "metadata": {
        "id": "BMNJiYepFKIH"
      },
      "outputs": [],
      "source": [
        "epoch_number = 0\n",
        "\n",
        "EPOCHS = 5\n",
        "\n",
        "best_vloss = 1_000_000.\n",
        "\n",
        "metric_dict = {\"train_loss\": [], \"val_loss\": []}\n",
        "\n",
        "def run(epoch_number, EPOCHS, best_vloss, metric_dict):\n",
        "    for epoch in range(EPOCHS):\n",
        "        print('EPOCH {}:'.format(epoch_number + 1))\n",
        "\n",
        "        # Make sure gradient tracking is on, and do a pass over the data\n",
        "        model.train(True)\n",
        "        avg_loss = train_one_epoch(epoch_number)\n",
        "\n",
        "        running_vloss = 0.0\n",
        "        # Set the model to evaluation mode, disabling dropout and using population\n",
        "        # statistics for batch normalization.\n",
        "        model.eval()\n",
        "\n",
        "        # Disable gradient computation and reduce memory consumption.\n",
        "        with torch.no_grad():\n",
        "            for i, vdata in enumerate(validation_loader):\n",
        "                faces, eyes_left, eyes_right, face_masks, labels = vdata\n",
        "                # Send all tensors to device\n",
        "                faces, eyes_left, eyes_right, face_masks, labels = \\\n",
        "                    faces.to(device),\\\n",
        "                    eyes_left.to(device),\\\n",
        "                    eyes_right.to(device),\\\n",
        "                    face_masks.to(device),\\\n",
        "                    labels.to(device)\n",
        "                voutputs = model(faces, eyes_left, eyes_right, face_masks)\n",
        "                vloss = loss_fn(voutputs, labels)\n",
        "                running_vloss += vloss\n",
        "\n",
        "        avg_vloss = running_vloss / ((i + 1) * batch_size)\n",
        "        print('LOSS train {} valid {}'.format(avg_loss, avg_vloss))\n",
        "\n",
        "        # Log the running loss averaged per batch\n",
        "        # for both training and validation\n",
        "        print(f\"Epoch: {epoch_number + 1}\")\n",
        "        print(f\"Train Loss: {avg_loss}\")\n",
        "        print(f\"Val Loss: {avg_vloss}\")\n",
        "\n",
        "        # Save most recent model and best model\n",
        "        torch.save(model.state_dict(), SAVE_RECENT_FILE)\n",
        "        if avg_vloss < best_vloss:\n",
        "            best_loss = avg_vloss\n",
        "            torch.save(model.state_dict(), SAVE_BEST_FILE)\n",
        "\n",
        "        # Record metrics for visualization\n",
        "        metric_dict[\"train_loss\"].append(avg_loss.item())\n",
        "        metric_dict[\"val_loss\"].append(avg_vloss.item())\n",
        "        epoch_number += 1"
      ]
    },
    {
      "cell_type": "code",
      "execution_count": null,
      "metadata": {
        "colab": {
          "base_uri": "https://localhost:8080/"
        },
        "id": "10i1k7tTnFpw",
        "outputId": "3ebf8c03-6c7f-47d1-f0b0-abeba68f81c9"
      },
      "outputs": [
        {
          "name": "stdout",
          "output_type": "stream",
          "text": [
            "EPOCH 1:\n"
          ]
        },
        {
          "name": "stderr",
          "output_type": "stream",
          "text": [
            "/usr/local/lib/python3.10/dist-packages/torchvision/transforms/functional.py:1603: UserWarning: The default value of the antialias parameter of all the resizing transforms (Resize(), RandomResizedCrop(), etc.) will change from None to True in v0.17, in order to be consistent across the PIL and Tensor backends. To suppress this warning, directly pass antialias=True (recommended, future default), antialias=None (current default, which means False for Tensors and True for PIL), or antialias=False (only works on Tensors - PIL will still use antialiasing). This also applies if you are using the inference transforms from the models weights: update the call to weights.transforms(antialias=True).\n",
            "  warnings.warn(\n",
            "/usr/local/lib/python3.10/dist-packages/torchvision/transforms/functional.py:1603: UserWarning: The default value of the antialias parameter of all the resizing transforms (Resize(), RandomResizedCrop(), etc.) will change from None to True in v0.17, in order to be consistent across the PIL and Tensor backends. To suppress this warning, directly pass antialias=True (recommended, future default), antialias=None (current default, which means False for Tensors and True for PIL), or antialias=False (only works on Tensors - PIL will still use antialiasing). This also applies if you are using the inference transforms from the models weights: update the call to weights.transforms(antialias=True).\n",
            "  warnings.warn(\n"
          ]
        },
        {
          "name": "stdout",
          "output_type": "stream",
          "text": [
            "  batch 1/47 loss: 0.006902358531951904\n",
            "  batch 2/47 loss: 0.005884274482727051\n",
            "  batch 3/47 loss: 0.006214470863342285\n",
            "  batch 4/47 loss: 0.006435576438903808\n",
            "  batch 5/47 loss: 0.006652649879455567\n",
            "  batch 6/47 loss: 0.006980644226074219\n",
            "  batch 7/47 loss: 0.006086334705352783\n",
            "  batch 8/47 loss: 0.0063664913177490234\n",
            "  batch 9/47 loss: 0.006397211551666259\n",
            "  batch 10/47 loss: 0.006786007881164551\n",
            "  batch 11/47 loss: 0.006726858139038086\n",
            "  batch 12/47 loss: 0.006343122959136963\n",
            "  batch 13/47 loss: 0.006446705818176269\n",
            "  batch 14/47 loss: 0.006476237297058106\n",
            "  batch 15/47 loss: 0.0061122307777404785\n",
            "  batch 16/47 loss: 0.006189554691314697\n",
            "  batch 17/47 loss: 0.0063356060981750485\n",
            "  batch 18/47 loss: 0.006176055908203125\n",
            "  batch 19/47 loss: 0.005384371757507324\n",
            "  batch 20/47 loss: 0.006721679210662842\n",
            "  batch 21/47 loss: 0.006994117736816406\n",
            "  batch 22/47 loss: 0.0059398822784423825\n",
            "  batch 23/47 loss: 0.006259077072143555\n",
            "  batch 24/47 loss: 0.005794301986694336\n",
            "  batch 25/47 loss: 0.005925840854644775\n",
            "  batch 26/47 loss: 0.006428501605987549\n",
            "  batch 27/47 loss: 0.0055266284942626955\n",
            "  batch 28/47 loss: 0.005917391300201416\n",
            "  batch 29/47 loss: 0.005968897819519043\n",
            "  batch 30/47 loss: 0.005459897518157959\n",
            "  batch 31/47 loss: 0.006058865547180175\n",
            "  batch 32/47 loss: 0.005634820938110351\n",
            "  batch 33/47 loss: 0.005981924057006836\n",
            "  batch 34/47 loss: 0.005890751838684082\n",
            "  batch 35/47 loss: 0.006060208797454834\n",
            "  batch 36/47 loss: 0.005551825523376465\n",
            "  batch 37/47 loss: 0.0060593833923339845\n",
            "  batch 38/47 loss: 0.006528083801269531\n",
            "  batch 39/47 loss: 0.006351644515991211\n",
            "  batch 40/47 loss: 0.005839322090148926\n",
            "  batch 41/47 loss: 0.005800358772277832\n",
            "  batch 42/47 loss: 0.005778392791748047\n",
            "  batch 43/47 loss: 0.005140561580657959\n",
            "  batch 44/47 loss: 0.006019896984100341\n",
            "  batch 45/47 loss: 0.006374832153320313\n",
            "  batch 46/47 loss: 0.005844361782073974\n",
            "  batch 47/47 loss: 0.005631750583648682\n"
          ]
        },
        {
          "name": "stderr",
          "output_type": "stream",
          "text": [
            "/usr/local/lib/python3.10/dist-packages/torchvision/transforms/functional.py:1603: UserWarning: The default value of the antialias parameter of all the resizing transforms (Resize(), RandomResizedCrop(), etc.) will change from None to True in v0.17, in order to be consistent across the PIL and Tensor backends. To suppress this warning, directly pass antialias=True (recommended, future default), antialias=None (current default, which means False for Tensors and True for PIL), or antialias=False (only works on Tensors - PIL will still use antialiasing). This also applies if you are using the inference transforms from the models weights: update the call to weights.transforms(antialias=True).\n",
            "  warnings.warn(\n",
            "/usr/local/lib/python3.10/dist-packages/torchvision/transforms/functional.py:1603: UserWarning: The default value of the antialias parameter of all the resizing transforms (Resize(), RandomResizedCrop(), etc.) will change from None to True in v0.17, in order to be consistent across the PIL and Tensor backends. To suppress this warning, directly pass antialias=True (recommended, future default), antialias=None (current default, which means False for Tensors and True for PIL), or antialias=False (only works on Tensors - PIL will still use antialiasing). This also applies if you are using the inference transforms from the models weights: update the call to weights.transforms(antialias=True).\n",
            "  warnings.warn(\n"
          ]
        },
        {
          "name": "stdout",
          "output_type": "stream",
          "text": [
            "LOSS train 0.005631750583648682 valid 6.286919593811035\n",
            "Epoch: 1\n",
            "Train Loss: 0.005631750583648682\n",
            "Val Loss: 6.286919593811035\n",
            "EPOCH 2:\n"
          ]
        },
        {
          "name": "stderr",
          "output_type": "stream",
          "text": [
            "/usr/local/lib/python3.10/dist-packages/torchvision/transforms/functional.py:1603: UserWarning: The default value of the antialias parameter of all the resizing transforms (Resize(), RandomResizedCrop(), etc.) will change from None to True in v0.17, in order to be consistent across the PIL and Tensor backends. To suppress this warning, directly pass antialias=True (recommended, future default), antialias=None (current default, which means False for Tensors and True for PIL), or antialias=False (only works on Tensors - PIL will still use antialiasing). This also applies if you are using the inference transforms from the models weights: update the call to weights.transforms(antialias=True).\n",
            "  warnings.warn(\n",
            "/usr/local/lib/python3.10/dist-packages/torchvision/transforms/functional.py:1603: UserWarning: The default value of the antialias parameter of all the resizing transforms (Resize(), RandomResizedCrop(), etc.) will change from None to True in v0.17, in order to be consistent across the PIL and Tensor backends. To suppress this warning, directly pass antialias=True (recommended, future default), antialias=None (current default, which means False for Tensors and True for PIL), or antialias=False (only works on Tensors - PIL will still use antialiasing). This also applies if you are using the inference transforms from the models weights: update the call to weights.transforms(antialias=True).\n",
            "  warnings.warn(\n"
          ]
        },
        {
          "name": "stdout",
          "output_type": "stream",
          "text": [
            "  batch 1/47 loss: 0.005503119468688965\n",
            "  batch 2/47 loss: 0.005484402656555176\n",
            "  batch 3/47 loss: 0.005740450382232666\n",
            "  batch 4/47 loss: 0.005137486934661865\n",
            "  batch 5/47 loss: 0.00567877721786499\n",
            "  batch 6/47 loss: 0.004941159725189209\n",
            "  batch 7/47 loss: 0.005388489246368408\n",
            "  batch 8/47 loss: 0.005190315246582031\n",
            "  batch 9/47 loss: 0.005444802284240722\n",
            "  batch 10/47 loss: 0.005233493328094483\n",
            "  batch 11/47 loss: 0.005612563133239746\n",
            "  batch 12/47 loss: 0.004925844192504883\n",
            "  batch 13/47 loss: 0.00554783821105957\n",
            "  batch 14/47 loss: 0.004908365249633789\n",
            "  batch 15/47 loss: 0.005130140304565429\n",
            "  batch 16/47 loss: 0.005158900260925293\n",
            "  batch 17/47 loss: 0.005354561805725098\n",
            "  batch 18/47 loss: 0.005405598640441894\n",
            "  batch 19/47 loss: 0.00573573112487793\n",
            "  batch 20/47 loss: 0.005492828369140625\n",
            "  batch 21/47 loss: 0.005099325656890869\n",
            "  batch 22/47 loss: 0.00492171859741211\n",
            "  batch 23/47 loss: 0.005347256660461426\n",
            "  batch 24/47 loss: 0.005041991233825684\n",
            "  batch 25/47 loss: 0.005580974102020264\n",
            "  batch 26/47 loss: 0.005394193172454834\n",
            "  batch 27/47 loss: 0.005414019584655762\n",
            "  batch 28/47 loss: 0.005085041999816894\n",
            "  batch 29/47 loss: 0.0052642331123352055\n",
            "  batch 30/47 loss: 0.005367447853088379\n",
            "  batch 31/47 loss: 0.006175269603729248\n",
            "  batch 32/47 loss: 0.005114387512207031\n",
            "  batch 33/47 loss: 0.005407615661621094\n",
            "  batch 34/47 loss: 0.005203510284423828\n",
            "  batch 35/47 loss: 0.005848263263702393\n",
            "  batch 36/47 loss: 0.005688915252685547\n",
            "  batch 37/47 loss: 0.004690397739410401\n",
            "  batch 38/47 loss: 0.005139925479888916\n",
            "  batch 39/47 loss: 0.005282462596893311\n",
            "  batch 40/47 loss: 0.005616748809814453\n",
            "  batch 41/47 loss: 0.00519782543182373\n",
            "  batch 42/47 loss: 0.005479851722717285\n",
            "  batch 43/47 loss: 0.0055835871696472165\n",
            "  batch 44/47 loss: 0.005215911865234375\n",
            "  batch 45/47 loss: 0.0051743674278259275\n",
            "  batch 46/47 loss: 0.005604655742645264\n",
            "  batch 47/47 loss: 0.005681272029876709\n"
          ]
        },
        {
          "name": "stderr",
          "output_type": "stream",
          "text": [
            "/usr/local/lib/python3.10/dist-packages/torchvision/transforms/functional.py:1603: UserWarning: The default value of the antialias parameter of all the resizing transforms (Resize(), RandomResizedCrop(), etc.) will change from None to True in v0.17, in order to be consistent across the PIL and Tensor backends. To suppress this warning, directly pass antialias=True (recommended, future default), antialias=None (current default, which means False for Tensors and True for PIL), or antialias=False (only works on Tensors - PIL will still use antialiasing). This also applies if you are using the inference transforms from the models weights: update the call to weights.transforms(antialias=True).\n",
            "  warnings.warn(\n",
            "/usr/local/lib/python3.10/dist-packages/torchvision/transforms/functional.py:1603: UserWarning: The default value of the antialias parameter of all the resizing transforms (Resize(), RandomResizedCrop(), etc.) will change from None to True in v0.17, in order to be consistent across the PIL and Tensor backends. To suppress this warning, directly pass antialias=True (recommended, future default), antialias=None (current default, which means False for Tensors and True for PIL), or antialias=False (only works on Tensors - PIL will still use antialiasing). This also applies if you are using the inference transforms from the models weights: update the call to weights.transforms(antialias=True).\n",
            "  warnings.warn(\n"
          ]
        },
        {
          "name": "stdout",
          "output_type": "stream",
          "text": [
            "LOSS train 0.005681272029876709 valid 5.724839210510254\n",
            "Epoch: 2\n",
            "Train Loss: 0.005681272029876709\n",
            "Val Loss: 5.724839210510254\n",
            "EPOCH 3:\n"
          ]
        },
        {
          "name": "stderr",
          "output_type": "stream",
          "text": [
            "/usr/local/lib/python3.10/dist-packages/torchvision/transforms/functional.py:1603: UserWarning: The default value of the antialias parameter of all the resizing transforms (Resize(), RandomResizedCrop(), etc.) will change from None to True in v0.17, in order to be consistent across the PIL and Tensor backends. To suppress this warning, directly pass antialias=True (recommended, future default), antialias=None (current default, which means False for Tensors and True for PIL), or antialias=False (only works on Tensors - PIL will still use antialiasing). This also applies if you are using the inference transforms from the models weights: update the call to weights.transforms(antialias=True).\n",
            "  warnings.warn(\n",
            "/usr/local/lib/python3.10/dist-packages/torchvision/transforms/functional.py:1603: UserWarning: The default value of the antialias parameter of all the resizing transforms (Resize(), RandomResizedCrop(), etc.) will change from None to True in v0.17, in order to be consistent across the PIL and Tensor backends. To suppress this warning, directly pass antialias=True (recommended, future default), antialias=None (current default, which means False for Tensors and True for PIL), or antialias=False (only works on Tensors - PIL will still use antialiasing). This also applies if you are using the inference transforms from the models weights: update the call to weights.transforms(antialias=True).\n",
            "  warnings.warn(\n"
          ]
        },
        {
          "name": "stdout",
          "output_type": "stream",
          "text": [
            "  batch 1/47 loss: 0.004928410530090332\n",
            "  batch 2/47 loss: 0.005076340198516846\n",
            "  batch 3/47 loss: 0.004761819839477539\n",
            "  batch 4/47 loss: 0.0045135092735290525\n",
            "  batch 5/47 loss: 0.004982200145721436\n",
            "  batch 6/47 loss: 0.005193102836608887\n",
            "  batch 7/47 loss: 0.004220838069915771\n",
            "  batch 8/47 loss: 0.004665184497833252\n",
            "  batch 9/47 loss: 0.004935039043426514\n",
            "  batch 10/47 loss: 0.004569656372070312\n",
            "  batch 11/47 loss: 0.003960519790649414\n",
            "  batch 12/47 loss: 0.004907001495361328\n",
            "  batch 13/47 loss: 0.003994354724884033\n",
            "  batch 14/47 loss: 0.0042231884002685545\n",
            "  batch 15/47 loss: 0.00528176736831665\n",
            "  batch 16/47 loss: 0.004717487335205078\n",
            "  batch 17/47 loss: 0.004149864196777344\n",
            "  batch 18/47 loss: 0.004458168983459473\n",
            "  batch 19/47 loss: 0.004834819793701172\n",
            "  batch 20/47 loss: 0.004834916114807129\n",
            "  batch 21/47 loss: 0.004695254802703858\n",
            "  batch 22/47 loss: 0.004821210861206055\n",
            "  batch 23/47 loss: 0.004249748229980469\n",
            "  batch 24/47 loss: 0.005093507289886475\n",
            "  batch 25/47 loss: 0.004834889411926269\n",
            "  batch 26/47 loss: 0.0044748811721801755\n",
            "  batch 27/47 loss: 0.005141728401184082\n",
            "  batch 28/47 loss: 0.004092591762542725\n",
            "  batch 29/47 loss: 0.0043949480056762694\n",
            "  batch 30/47 loss: 0.004812572479248047\n",
            "  batch 31/47 loss: 0.004755592346191407\n",
            "  batch 32/47 loss: 0.004930871963500977\n",
            "  batch 33/47 loss: 0.005010410308837891\n",
            "  batch 34/47 loss: 0.004651749610900879\n",
            "  batch 35/47 loss: 0.0048914399147033695\n",
            "  batch 36/47 loss: 0.004726205825805664\n",
            "  batch 37/47 loss: 0.004565136432647705\n",
            "  batch 38/47 loss: 0.004584771156311035\n",
            "  batch 39/47 loss: 0.004865107536315918\n",
            "  batch 40/47 loss: 0.0047816548347473144\n",
            "  batch 41/47 loss: 0.0046058549880981445\n",
            "  batch 42/47 loss: 0.005218234062194824\n",
            "  batch 43/47 loss: 0.004678134918212891\n",
            "  batch 44/47 loss: 0.0040161914825439455\n",
            "  batch 45/47 loss: 0.004769517421722412\n",
            "  batch 46/47 loss: 0.0048680992126464845\n",
            "  batch 47/47 loss: 0.0046347384452819825\n"
          ]
        },
        {
          "name": "stderr",
          "output_type": "stream",
          "text": [
            "/usr/local/lib/python3.10/dist-packages/torchvision/transforms/functional.py:1603: UserWarning: The default value of the antialias parameter of all the resizing transforms (Resize(), RandomResizedCrop(), etc.) will change from None to True in v0.17, in order to be consistent across the PIL and Tensor backends. To suppress this warning, directly pass antialias=True (recommended, future default), antialias=None (current default, which means False for Tensors and True for PIL), or antialias=False (only works on Tensors - PIL will still use antialiasing). This also applies if you are using the inference transforms from the models weights: update the call to weights.transforms(antialias=True).\n",
            "  warnings.warn(\n",
            "/usr/local/lib/python3.10/dist-packages/torchvision/transforms/functional.py:1603: UserWarning: The default value of the antialias parameter of all the resizing transforms (Resize(), RandomResizedCrop(), etc.) will change from None to True in v0.17, in order to be consistent across the PIL and Tensor backends. To suppress this warning, directly pass antialias=True (recommended, future default), antialias=None (current default, which means False for Tensors and True for PIL), or antialias=False (only works on Tensors - PIL will still use antialiasing). This also applies if you are using the inference transforms from the models weights: update the call to weights.transforms(antialias=True).\n",
            "  warnings.warn(\n"
          ]
        },
        {
          "name": "stdout",
          "output_type": "stream",
          "text": [
            "LOSS train 0.0046347384452819825 valid 5.304262638092041\n",
            "Epoch: 3\n",
            "Train Loss: 0.0046347384452819825\n",
            "Val Loss: 5.304262638092041\n",
            "EPOCH 4:\n"
          ]
        },
        {
          "name": "stderr",
          "output_type": "stream",
          "text": [
            "/usr/local/lib/python3.10/dist-packages/torchvision/transforms/functional.py:1603: UserWarning: The default value of the antialias parameter of all the resizing transforms (Resize(), RandomResizedCrop(), etc.) will change from None to True in v0.17, in order to be consistent across the PIL and Tensor backends. To suppress this warning, directly pass antialias=True (recommended, future default), antialias=None (current default, which means False for Tensors and True for PIL), or antialias=False (only works on Tensors - PIL will still use antialiasing). This also applies if you are using the inference transforms from the models weights: update the call to weights.transforms(antialias=True).\n",
            "  warnings.warn(\n",
            "/usr/local/lib/python3.10/dist-packages/torchvision/transforms/functional.py:1603: UserWarning: The default value of the antialias parameter of all the resizing transforms (Resize(), RandomResizedCrop(), etc.) will change from None to True in v0.17, in order to be consistent across the PIL and Tensor backends. To suppress this warning, directly pass antialias=True (recommended, future default), antialias=None (current default, which means False for Tensors and True for PIL), or antialias=False (only works on Tensors - PIL will still use antialiasing). This also applies if you are using the inference transforms from the models weights: update the call to weights.transforms(antialias=True).\n",
            "  warnings.warn(\n"
          ]
        },
        {
          "name": "stdout",
          "output_type": "stream",
          "text": [
            "  batch 1/47 loss: 0.004686901092529297\n",
            "  batch 2/47 loss: 0.0044231672286987305\n",
            "  batch 3/47 loss: 0.004371536731719971\n",
            "  batch 4/47 loss: 0.0040230083465576175\n",
            "  batch 5/47 loss: 0.004162829399108886\n",
            "  batch 6/47 loss: 0.004436485767364502\n",
            "  batch 7/47 loss: 0.004620375633239746\n",
            "  batch 8/47 loss: 0.003848536968231201\n",
            "  batch 9/47 loss: 0.00432231616973877\n",
            "  batch 10/47 loss: 0.004411853313446045\n",
            "  batch 11/47 loss: 0.004234731674194336\n",
            "  batch 12/47 loss: 0.0045136442184448245\n",
            "  batch 13/47 loss: 0.003919227600097656\n",
            "  batch 14/47 loss: 0.0038252732753753663\n",
            "  batch 15/47 loss: 0.004199141502380371\n",
            "  batch 16/47 loss: 0.004426506042480469\n",
            "  batch 17/47 loss: 0.00434345817565918\n",
            "  batch 18/47 loss: 0.0038275489807128907\n",
            "  batch 19/47 loss: 0.0043555135726928715\n",
            "  batch 20/47 loss: 0.0039687552452087405\n",
            "  batch 21/47 loss: 0.0040602188110351566\n",
            "  batch 22/47 loss: 0.004087055683135986\n",
            "  batch 23/47 loss: 0.003911205768585205\n",
            "  batch 24/47 loss: 0.004070639610290527\n",
            "  batch 25/47 loss: 0.004297412872314453\n",
            "  batch 26/47 loss: 0.004520526885986328\n",
            "  batch 27/47 loss: 0.003670204162597656\n",
            "  batch 28/47 loss: 0.00450784683227539\n",
            "  batch 29/47 loss: 0.0037350301742553713\n",
            "  batch 30/47 loss: 0.0043085145950317386\n",
            "  batch 31/47 loss: 0.004760598659515381\n",
            "  batch 32/47 loss: 0.003948209047317505\n",
            "  batch 33/47 loss: 0.0039050562381744386\n",
            "  batch 34/47 loss: 0.0043450498580932615\n",
            "  batch 35/47 loss: 0.004143248081207276\n",
            "  batch 36/47 loss: 0.003937185287475586\n",
            "  batch 37/47 loss: 0.004659876823425293\n",
            "  batch 38/47 loss: 0.0042104973793029785\n",
            "  batch 39/47 loss: 0.004331019401550293\n",
            "  batch 40/47 loss: 0.003604689359664917\n",
            "  batch 41/47 loss: 0.0042347445487976075\n",
            "  batch 42/47 loss: 0.00373687744140625\n",
            "  batch 43/47 loss: 0.004427045822143555\n",
            "  batch 44/47 loss: 0.004136917114257813\n",
            "  batch 45/47 loss: 0.004412800788879395\n",
            "  batch 46/47 loss: 0.004617425918579101\n",
            "  batch 47/47 loss: 0.004104962348937988\n"
          ]
        },
        {
          "name": "stderr",
          "output_type": "stream",
          "text": [
            "/usr/local/lib/python3.10/dist-packages/torchvision/transforms/functional.py:1603: UserWarning: The default value of the antialias parameter of all the resizing transforms (Resize(), RandomResizedCrop(), etc.) will change from None to True in v0.17, in order to be consistent across the PIL and Tensor backends. To suppress this warning, directly pass antialias=True (recommended, future default), antialias=None (current default, which means False for Tensors and True for PIL), or antialias=False (only works on Tensors - PIL will still use antialiasing). This also applies if you are using the inference transforms from the models weights: update the call to weights.transforms(antialias=True).\n",
            "  warnings.warn(\n",
            "/usr/local/lib/python3.10/dist-packages/torchvision/transforms/functional.py:1603: UserWarning: The default value of the antialias parameter of all the resizing transforms (Resize(), RandomResizedCrop(), etc.) will change from None to True in v0.17, in order to be consistent across the PIL and Tensor backends. To suppress this warning, directly pass antialias=True (recommended, future default), antialias=None (current default, which means False for Tensors and True for PIL), or antialias=False (only works on Tensors - PIL will still use antialiasing). This also applies if you are using the inference transforms from the models weights: update the call to weights.transforms(antialias=True).\n",
            "  warnings.warn(\n"
          ]
        },
        {
          "name": "stdout",
          "output_type": "stream",
          "text": [
            "LOSS train 0.004104962348937988 valid 5.028802871704102\n",
            "Epoch: 4\n",
            "Train Loss: 0.004104962348937988\n",
            "Val Loss: 5.028802871704102\n",
            "EPOCH 5:\n"
          ]
        },
        {
          "name": "stderr",
          "output_type": "stream",
          "text": [
            "/usr/local/lib/python3.10/dist-packages/torchvision/transforms/functional.py:1603: UserWarning: The default value of the antialias parameter of all the resizing transforms (Resize(), RandomResizedCrop(), etc.) will change from None to True in v0.17, in order to be consistent across the PIL and Tensor backends. To suppress this warning, directly pass antialias=True (recommended, future default), antialias=None (current default, which means False for Tensors and True for PIL), or antialias=False (only works on Tensors - PIL will still use antialiasing). This also applies if you are using the inference transforms from the models weights: update the call to weights.transforms(antialias=True).\n",
            "  warnings.warn(\n",
            "/usr/local/lib/python3.10/dist-packages/torchvision/transforms/functional.py:1603: UserWarning: The default value of the antialias parameter of all the resizing transforms (Resize(), RandomResizedCrop(), etc.) will change from None to True in v0.17, in order to be consistent across the PIL and Tensor backends. To suppress this warning, directly pass antialias=True (recommended, future default), antialias=None (current default, which means False for Tensors and True for PIL), or antialias=False (only works on Tensors - PIL will still use antialiasing). This also applies if you are using the inference transforms from the models weights: update the call to weights.transforms(antialias=True).\n",
            "  warnings.warn(\n"
          ]
        },
        {
          "name": "stdout",
          "output_type": "stream",
          "text": [
            "  batch 1/47 loss: 0.003633362293243408\n",
            "  batch 2/47 loss: 0.0035868175029754638\n",
            "  batch 3/47 loss: 0.004050414085388184\n",
            "  batch 4/47 loss: 0.00338312292098999\n",
            "  batch 5/47 loss: 0.003754227161407471\n",
            "  batch 6/47 loss: 0.00399437952041626\n",
            "  batch 7/47 loss: 0.004127279281616211\n",
            "  batch 8/47 loss: 0.004067766666412354\n",
            "  batch 9/47 loss: 0.004014449119567871\n",
            "  batch 10/47 loss: 0.003916041374206543\n",
            "  batch 11/47 loss: 0.0038567373752593993\n",
            "  batch 12/47 loss: 0.003812739133834839\n",
            "  batch 13/47 loss: 0.003703411102294922\n",
            "  batch 14/47 loss: 0.003680122137069702\n",
            "  batch 15/47 loss: 0.004271713733673096\n",
            "  batch 16/47 loss: 0.004258190155029297\n",
            "  batch 17/47 loss: 0.004248118400573731\n",
            "  batch 18/47 loss: 0.0037768588066101074\n",
            "  batch 19/47 loss: 0.003752908229827881\n",
            "  batch 20/47 loss: 0.0038525490760803224\n",
            "  batch 21/47 loss: 0.0040734543800354005\n",
            "  batch 22/47 loss: 0.0037145161628723143\n",
            "  batch 23/47 loss: 0.0038382773399353027\n",
            "  batch 24/47 loss: 0.0039055216312408447\n",
            "  batch 25/47 loss: 0.0038465142250061037\n",
            "  batch 26/47 loss: 0.0035141916275024413\n",
            "  batch 27/47 loss: 0.004090473175048828\n",
            "  batch 28/47 loss: 0.0041372737884521485\n",
            "  batch 29/47 loss: 0.004078494548797607\n",
            "  batch 30/47 loss: 0.003921759366989136\n",
            "  batch 31/47 loss: 0.0035714178085327146\n",
            "  batch 32/47 loss: 0.003907248973846435\n",
            "  batch 33/47 loss: 0.0036561849117279052\n",
            "  batch 34/47 loss: 0.004077866554260254\n",
            "  batch 35/47 loss: 0.004027786254882812\n",
            "  batch 36/47 loss: 0.003722102642059326\n",
            "  batch 37/47 loss: 0.003619196653366089\n",
            "  batch 38/47 loss: 0.003659606695175171\n",
            "  batch 39/47 loss: 0.0035771865844726565\n",
            "  batch 40/47 loss: 0.004073822975158691\n",
            "  batch 41/47 loss: 0.0041717982292175295\n",
            "  batch 42/47 loss: 0.004133639812469482\n",
            "  batch 43/47 loss: 0.003824420928955078\n",
            "  batch 44/47 loss: 0.004113385200500488\n",
            "  batch 45/47 loss: 0.003748018741607666\n",
            "  batch 46/47 loss: 0.004084329128265381\n",
            "  batch 47/47 loss: 0.003945791959762573\n"
          ]
        },
        {
          "name": "stderr",
          "output_type": "stream",
          "text": [
            "/usr/local/lib/python3.10/dist-packages/torchvision/transforms/functional.py:1603: UserWarning: The default value of the antialias parameter of all the resizing transforms (Resize(), RandomResizedCrop(), etc.) will change from None to True in v0.17, in order to be consistent across the PIL and Tensor backends. To suppress this warning, directly pass antialias=True (recommended, future default), antialias=None (current default, which means False for Tensors and True for PIL), or antialias=False (only works on Tensors - PIL will still use antialiasing). This also applies if you are using the inference transforms from the models weights: update the call to weights.transforms(antialias=True).\n",
            "  warnings.warn(\n",
            "/usr/local/lib/python3.10/dist-packages/torchvision/transforms/functional.py:1603: UserWarning: The default value of the antialias parameter of all the resizing transforms (Resize(), RandomResizedCrop(), etc.) will change from None to True in v0.17, in order to be consistent across the PIL and Tensor backends. To suppress this warning, directly pass antialias=True (recommended, future default), antialias=None (current default, which means False for Tensors and True for PIL), or antialias=False (only works on Tensors - PIL will still use antialiasing). This also applies if you are using the inference transforms from the models weights: update the call to weights.transforms(antialias=True).\n",
            "  warnings.warn(\n"
          ]
        },
        {
          "name": "stdout",
          "output_type": "stream",
          "text": [
            "LOSS train 0.003945791959762573 valid 4.789817810058594\n",
            "Epoch: 5\n",
            "Train Loss: 0.003945791959762573\n",
            "Val Loss: 4.789817810058594\n"
          ]
        }
      ],
      "source": [
        "run(epoch_number, EPOCHS, best_vloss, metric_dict)"
      ]
    },
    {
      "cell_type": "code",
      "execution_count": null,
      "metadata": {
        "id": "_8ibYa_yDm94"
      },
      "outputs": [],
      "source": [
        "for i in range(5, len(metric_dict['val_loss'])):\n",
        "    metric_dict['val_loss'][i] /= batch_size"
      ]
    },
    {
      "cell_type": "code",
      "execution_count": null,
      "metadata": {
        "colab": {
          "base_uri": "https://localhost:8080/"
        },
        "id": "bqXjVol6EXbX",
        "outputId": "b1adc48b-4fd1-4512-8dfe-c55a9d7c5217"
      },
      "outputs": [
        {
          "data": {
            "text/plain": [
              "{'train_loss': [0.027834007263183594,\n",
              "  0.016789670944213866,\n",
              "  0.008887801170349121,\n",
              "  0.008010992050170898,\n",
              "  0.006040769100189209,\n",
              "  0.005631750583648682,\n",
              "  0.005681272029876709,\n",
              "  0.0046347384452819825,\n",
              "  0.004104962348937988,\n",
              "  0.003945791959762573],\n",
              " 'val_loss': [0.02664368413388729,\n",
              "  0.014503571204841137,\n",
              "  0.009634382091462612,\n",
              "  0.00783346127718687,\n",
              "  0.007465030532330275,\n",
              "  0.006139569915831089,\n",
              "  0.00559066329151392,\n",
              "  0.005179943982511759,\n",
              "  0.004910940304398537,\n",
              "  0.0046775564551353455]}"
            ]
          },
          "execution_count": 40,
          "metadata": {},
          "output_type": "execute_result"
        }
      ],
      "source": [
        "metric_dict"
      ]
    },
    {
      "cell_type": "code",
      "execution_count": null,
      "metadata": {
        "colab": {
          "base_uri": "https://localhost:8080/",
          "height": 466
        },
        "id": "52-N1-u8ZFlh",
        "outputId": "6777e431-c659-464f-cb28-24144c740fc1"
      },
      "outputs": [
        {
          "data": {
            "text/plain": [
              "Text(0, 0.5, 'loss')"
            ]
          },
          "execution_count": 41,
          "metadata": {},
          "output_type": "execute_result"
        },
        {
          "data": {
            "image/png": "[encoded data removed]",
            "text/plain": [
              "<Figure size 640x480 with 1 Axes>"
            ]
          },
          "metadata": {},
          "output_type": "display_data"
        }
      ],
      "source": [
        "plt.plot(metric_dict[\"val_loss\"], label = \"validation loss\")\n",
        "plt.plot(metric_dict[\"train_loss\"], label = \"train loss\")\n",
        "plt.legend()\n",
        "plt.xlabel(\"epochs\")\n",
        "plt.ylabel(\"loss\")"
      ]
    },
    {
      "cell_type": "code",
      "execution_count": null,
      "metadata": {
        "id": "zPNQBxn4Ev9E"
      },
      "outputs": [],
      "source": [
        "import pickle\n",
        "\n",
        "with open(str(SAVE_DIR / 'metric_dict.pkl'), 'wb') as f:\n",
        "    pickle.dump(metric_dict, f)"
      ]
    },
    {
      "cell_type": "markdown",
      "metadata": {
        "id": "TpX_OdbgFfUQ"
      },
      "source": [
        "## Post training"
      ]
    },
    {
      "cell_type": "code",
      "execution_count": null,
      "metadata": {
        "colab": {
          "base_uri": "https://localhost:8080/"
        },
        "id": "ZOuQliUmFYfG",
        "outputId": "fee09e28-e14d-4896-bfb3-6d7da422e41a"
      },
      "outputs": [
        {
          "name": "stderr",
          "output_type": "stream",
          "text": [
            "/usr/local/lib/python3.10/dist-packages/torchvision/transforms/functional.py:1603: UserWarning: The default value of the antialias parameter of all the resizing transforms (Resize(), RandomResizedCrop(), etc.) will change from None to True in v0.17, in order to be consistent across the PIL and Tensor backends. To suppress this warning, directly pass antialias=True (recommended, future default), antialias=None (current default, which means False for Tensors and True for PIL), or antialias=False (only works on Tensors - PIL will still use antialiasing). This also applies if you are using the inference transforms from the models weights: update the call to weights.transforms(antialias=True).\n",
            "  warnings.warn(\n",
            "/usr/local/lib/python3.10/dist-packages/torchvision/transforms/functional.py:1603: UserWarning: The default value of the antialias parameter of all the resizing transforms (Resize(), RandomResizedCrop(), etc.) will change from None to True in v0.17, in order to be consistent across the PIL and Tensor backends. To suppress this warning, directly pass antialias=True (recommended, future default), antialias=None (current default, which means False for Tensors and True for PIL), or antialias=False (only works on Tensors - PIL will still use antialiasing). This also applies if you are using the inference transforms from the models weights: update the call to weights.transforms(antialias=True).\n",
            "  warnings.warn(\n"
          ]
        }
      ],
      "source": [
        "dataiter = iter(training_loader)\n",
        "face, eye_left, eye_right, face_mask, y = next(dataiter)"
      ]
    },
    {
      "cell_type": "code",
      "execution_count": null,
      "metadata": {
        "colab": {
          "base_uri": "https://localhost:8080/",
          "height": 469
        },
        "id": "BLmmy4K8F82O",
        "outputId": "92224026-ac6d-4857-efee-f153d761087f"
      },
      "outputs": [
        {
          "name": "stderr",
          "output_type": "stream",
          "text": [
            "WARNING:matplotlib.image:Clipping input data to the valid range for imshow with RGB data ([0..1] for floats or [0..255] for integers).\n"
          ]
        },
        {
          "data": {
            "text/plain": [
              "<matplotlib.image.AxesImage at 0x78ba149a6dd0>"
            ]
          },
          "execution_count": 55,
          "metadata": {},
          "output_type": "execute_result"
        },
        {
          "data": {
            "image/png": "[encoded data removed]",
            "text/plain": [
              "<Figure size 640x480 with 1 Axes>"
            ]
          },
          "metadata": {},
          "output_type": "display_data"
        }
      ],
      "source": [
        "index = 4\n",
        "single_face, single_eye_left, single_eye_right, single_face_mask, single_y = face[index], eye_left[index], eye_right[index], face_mask[index], y[index]\n",
        "# Create a grid from the images and show them\n",
        "plt.imshow(np.transpose(single_face.numpy(), (1, 2, 0)))"
      ]
    },
    {
      "cell_type": "code",
      "execution_count": null,
      "metadata": {
        "colab": {
          "base_uri": "https://localhost:8080/"
        },
        "id": "GDOCxPQxGV4T",
        "outputId": "50f2340c-2688-4354-c595-d617e9637917"
      },
      "outputs": [
        {
          "data": {
            "text/plain": [
              "tensor([ 0.0000, -5.5859])"
            ]
          },
          "execution_count": 56,
          "metadata": {},
          "output_type": "execute_result"
        }
      ],
      "source": [
        "single_y"
      ]
    },
    {
      "cell_type": "code",
      "execution_count": null,
      "metadata": {
        "colab": {
          "base_uri": "https://localhost:8080/"
        },
        "id": "FXcEYv_wGyCX",
        "outputId": "2cbf60cc-3e48-4136-c619-91cece35dedb"
      },
      "outputs": [
        {
          "data": {
            "text/plain": [
              "tensor([-0.6885, -2.7392], device='cuda:0', grad_fn=<SelectBackward0>)"
            ]
          },
          "execution_count": 59,
          "metadata": {},
          "output_type": "execute_result"
        }
      ],
      "source": [
        "model.eval()\n",
        "faces, eyes_left, eyes_right, face_masks, labels = face, eye_left, eye_right, face_mask, y\n",
        "# Send all tensors to device\n",
        "faces, eyes_left, eyes_right, face_masks, labels = \\\n",
        "    faces.to(device),\\\n",
        "    eyes_left.to(device),\\\n",
        "    eyes_right.to(device),\\\n",
        "    face_masks.to(device),\\\n",
        "    labels.to(device)\n",
        "voutputs = model(faces, eyes_left, eyes_right, face_masks)\n",
        "voutputs[index]"
      ]
    },
    {
      "cell_type": "markdown",
      "metadata": {
        "id": "YOnWvTf0074S"
      },
      "source": [
        "## Some More Post Training\n"
      ]
    },
    {
      "cell_type": "code",
      "execution_count": null,
      "metadata": {
        "id": "8GSM2vq71ApU"
      },
      "outputs": [],
      "source": [
        "npzfile = np.load(dataset_file)\n",
        "val_y = npzfile['val_y'].astype('float16')"
      ]
    },
    {
      "cell_type": "code",
      "execution_count": null,
      "metadata": {
        "colab": {
          "base_uri": "https://localhost:8080/"
        },
        "id": "KUvQjay_3XnK",
        "outputId": "13d193aa-a14d-416d-b950-e59ae3fdb23c"
      },
      "outputs": [
        {
          "data": {
            "text/plain": [
              "(5000, 2)"
            ]
          },
          "execution_count": 11,
          "metadata": {},
          "output_type": "execute_result"
        }
      ],
      "source": [
        "val_y.shape"
      ]
    },
    {
      "cell_type": "code",
      "execution_count": null,
      "metadata": {
        "colab": {
          "base_uri": "https://localhost:8080/"
        },
        "id": "_nQ-d7W-1YqQ",
        "outputId": "08023dfb-7f74-4efb-c4e9-09ad6936b995"
      },
      "outputs": [
        {
          "name": "stdout",
          "output_type": "stream",
          "text": [
            "Min: [-20.25 -20.95]\n",
            "Max: [20.25 20.25]\n",
            "Mean: [-0.01024 -1.985  ]\n"
          ]
        }
      ],
      "source": [
        "print(f\"Min: {np.min(val_y, axis=0)}\")\n",
        "print(f\"Max: {np.max(val_y, axis=0)}\")\n",
        "print(f\"Mean: {np.mean(val_y, axis=0)}\")\n",
        "print(f\"Mean: {np.mean(val_y, axis=0)}\")"
      ]
    },
    {
      "cell_type": "code",
      "execution_count": null,
      "metadata": {
        "colab": {
          "base_uri": "https://localhost:8080/"
        },
        "id": "RqKgSCJKHIyy",
        "outputId": "faa3fa38-5e0d-4f13-d8ac-64293abf5d98"
      },
      "outputs": [
        {
          "data": {
            "text/plain": [
              "<All keys matched successfully>"
            ]
          },
          "execution_count": 10,
          "metadata": {},
          "output_type": "execute_result"
        }
      ],
      "source": [
        "# Hyperparameters\n",
        "device = torch.device(\"cuda:0\")\n",
        "num_workers = 2\n",
        "pin_memory = True\n",
        "batch_size = 1024\n",
        "\n",
        "model = ITrackerModel().to(device)\n",
        "model.load_state_dict(torch.load(SAVE_BEST_FILE))"
      ]
    },
    {
      "cell_type": "code",
      "execution_count": null,
      "metadata": {
        "id": "knfMWp-QHOQJ"
      },
      "outputs": [],
      "source": [
        "validation_set = TestITrackerData(str(dataset_file))\n",
        "validation_loader = torch.utils.data.DataLoader(validation_set, batch_size=batch_size, shuffle=False, pin_memory=pin_memory, num_workers=num_workers)"
      ]
    },
    {
      "cell_type": "code",
      "execution_count": null,
      "metadata": {
        "colab": {
          "base_uri": "https://localhost:8080/"
        },
        "id": "pcuB14PdGoHF",
        "outputId": "e4f829a7-9658-4586-cfd0-420409da023b"
      },
      "outputs": [
        {
          "name": "stderr",
          "output_type": "stream",
          "text": [
            "/usr/local/lib/python3.10/dist-packages/torchvision/transforms/functional.py:1603: UserWarning: The default value of the antialias parameter of all the resizing transforms (Resize(), RandomResizedCrop(), etc.) will change from None to True in v0.17, in order to be consistent across the PIL and Tensor backends. To suppress this warning, directly pass antialias=True (recommended, future default), antialias=None (current default, which means False for Tensors and True for PIL), or antialias=False (only works on Tensors - PIL will still use antialiasing). This also applies if you are using the inference transforms from the models weights: update the call to weights.transforms(antialias=True).\n",
            "  warnings.warn(\n",
            "/usr/local/lib/python3.10/dist-packages/torchvision/transforms/functional.py:1603: UserWarning: The default value of the antialias parameter of all the resizing transforms (Resize(), RandomResizedCrop(), etc.) will change from None to True in v0.17, in order to be consistent across the PIL and Tensor backends. To suppress this warning, directly pass antialias=True (recommended, future default), antialias=None (current default, which means False for Tensors and True for PIL), or antialias=False (only works on Tensors - PIL will still use antialiasing). This also applies if you are using the inference transforms from the models weights: update the call to weights.transforms(antialias=True).\n",
            "  warnings.warn(\n"
          ]
        },
        {
          "name": "stdout",
          "output_type": "stream",
          "text": [
            "Starting Batch 1/5\n",
            "(1024, 2)\n",
            "(1, 2)\n",
            "Starting Batch 2/5\n",
            "(1024, 2)\n",
            "(1025, 2)\n",
            "Starting Batch 3/5\n",
            "(1024, 2)\n",
            "(2049, 2)\n",
            "Starting Batch 4/5\n",
            "(1024, 2)\n",
            "(3073, 2)\n",
            "Starting Batch 5/5\n",
            "(904, 2)\n",
            "(4097, 2)\n"
          ]
        }
      ],
      "source": [
        "label_list = np.array([[0,0]])\n",
        "predicted_list = np.array([[0,0]])\n",
        "\n",
        "model.eval()\n",
        "with torch.no_grad():\n",
        "    for i, vdata in enumerate(validation_loader):\n",
        "        print(f\"Starting Batch {i+1}/{len(validation_loader)}\")\n",
        "        faces, eyes_left, eyes_right, face_masks, labels = vdata\n",
        "        faces, eyes_left, eyes_right, face_masks, labels = \\\n",
        "            faces.to(device),\\\n",
        "            eyes_left.to(device),\\\n",
        "            eyes_right.to(device),\\\n",
        "            face_masks.to(device),\\\n",
        "            labels.to(device)\n",
        "        print(labels.cpu().numpy().shape)\n",
        "        print(label_list.shape)\n",
        "        voutputs = model(faces, eyes_left, eyes_right, face_masks)\n",
        "        label_list = np.append(label_list, labels.cpu().numpy(), axis=0)\n",
        "        predicted_list = np.append(predicted_list, voutputs.cpu().numpy(), axis=0)"
      ]
    },
    {
      "cell_type": "code",
      "execution_count": null,
      "metadata": {
        "id": "fGj9_KLILvmH"
      },
      "outputs": [],
      "source": [
        "label_list = label_list[1:]\n",
        "predicted_list = predicted_list[1:]"
      ]
    },
    {
      "cell_type": "code",
      "execution_count": null,
      "metadata": {
        "colab": {
          "base_uri": "https://localhost:8080/"
        },
        "id": "bt07sqI0Ixmj",
        "outputId": "b77d0e65-145f-43cc-fc5d-3a2b5bed280b"
      },
      "outputs": [
        {
          "name": "stdout",
          "output_type": "stream",
          "text": [
            "(5000, 2)\n"
          ]
        },
        {
          "data": {
            "text/plain": [
              "array([[ 1.70117188e+00, -1.93847656e+00],\n",
              "       [-6.85156250e+00,  7.72949219e-01],\n",
              "       [-1.08906250e+01,  5.00202179e-04],\n",
              "       ...,\n",
              "       [-7.52734375e+00,  9.69238281e-01],\n",
              "       [ 5.78906250e+00, -4.60449219e-01],\n",
              "       [-3.64257812e+00, -9.69238281e-01]])"
            ]
          },
          "execution_count": 22,
          "metadata": {},
          "output_type": "execute_result"
        }
      ],
      "source": [
        "print(label_list.shape)\n",
        "label_list"
      ]
    },
    {
      "cell_type": "code",
      "execution_count": null,
      "metadata": {
        "colab": {
          "base_uri": "https://localhost:8080/"
        },
        "id": "-BcdHkShI9gU",
        "outputId": "5dfd86a4-d8e5-42fc-ba1d-29d4f1683dcd"
      },
      "outputs": [
        {
          "name": "stdout",
          "output_type": "stream",
          "text": [
            "(5000, 2)\n"
          ]
        },
        {
          "data": {
            "text/plain": [
              "array([[ 1.89667797,  1.45209956],\n",
              "       [-6.59438276,  1.59785092],\n",
              "       [-7.71013403,  1.2538861 ],\n",
              "       ...,\n",
              "       [-8.12311554, -0.21466507],\n",
              "       [ 5.07650423,  0.16453616],\n",
              "       [-3.61734986,  0.44472036]])"
            ]
          },
          "execution_count": 23,
          "metadata": {},
          "output_type": "execute_result"
        }
      ],
      "source": [
        "print(predicted_list.shape)\n",
        "predicted_list"
      ]
    },
    {
      "cell_type": "code",
      "execution_count": null,
      "metadata": {
        "id": "EMPxC4-uI_iL"
      },
      "outputs": [],
      "source": [
        "difference = np.subtract(predicted_list, label_list)"
      ]
    },
    {
      "cell_type": "code",
      "execution_count": null,
      "metadata": {
        "colab": {
          "base_uri": "https://localhost:8080/"
        },
        "id": "g5D8F97yOPlB",
        "outputId": "38052f26-8c7c-4c92-8d9e-0a6894ae5624"
      },
      "outputs": [
        {
          "name": "stdout",
          "output_type": "stream",
          "text": [
            "Stats for sample wise MSE on validation set\n",
            "Min: 0.01380352084197529\n",
            "Max: 17.555279466350587\n",
            "Mean: 2.4313320930575806\n",
            "Std: 1.9196250507162032\n"
          ]
        }
      ],
      "source": [
        "from numpy import linalg\n",
        "norm_diff = linalg.norm(difference, axis=1)\n",
        "print(\"Stats for sample wise MSE on validation set\")\n",
        "print(f\"Min: {np.min(norm_diff)}\")\n",
        "print(f\"Max: {np.max(norm_diff)}\")\n",
        "print(f\"Mean: {np.mean(norm_diff)}\")\n",
        "print(f\"Std: {np.std(norm_diff)}\")"
      ]
    },
    {
      "cell_type": "code",
      "execution_count": null,
      "metadata": {
        "id": "pIIOq1YkMlrq"
      },
      "outputs": [],
      "source": [
        "x_diff = difference[:,0]\n",
        "y_diff = difference[:,1]"
      ]
    },
    {
      "cell_type": "code",
      "execution_count": null,
      "metadata": {
        "id": "JYMQLVdyNJyE"
      },
      "outputs": [],
      "source": [
        "H, xedges, yedges = np.histogram2d(x_diff, y_diff, bins=50)\n",
        "H = H.T"
      ]
    },
    {
      "cell_type": "code",
      "execution_count": null,
      "metadata": {
        "colab": {
          "base_uri": "https://localhost:8080/",
          "height": 606
        },
        "id": "W8fGiU79Nh-D",
        "outputId": "8582fccc-e9a4-4c0b-e6bc-c8c9902299d9"
      },
      "outputs": [
        {
          "data": {
            "text/plain": [
              "<matplotlib.collections.QuadMesh at 0x786e37ecbc70>"
            ]
          },
          "execution_count": 40,
          "metadata": {},
          "output_type": "execute_result"
        },
        {
          "data": {
            "image/png": "[encoded data removed]",
            "text/plain": [
              "<Figure size 2500x2500 with 1 Axes>"
            ]
          },
          "metadata": {},
          "output_type": "display_data"
        }
      ],
      "source": [
        "fig = plt.figure(figsize=(25, 25))\n",
        "ax = fig.add_subplot(132, title='Samplewise Deviation from Ground Truth',\n",
        "        aspect='equal')\n",
        "X, Y = np.meshgrid(xedges, yedges)\n",
        "ax.pcolormesh(X, Y, H)"
      ]
    }
  ],
  "metadata": {
    "accelerator": "GPU",
    "colab": {
      "collapsed_sections": [
        "R4Vqk_xcFP-p",
        "856mZesRFMr0",
        "85bzNg-BFKH-"
      ],
      "gpuType": "A100",
      "machine_shape": "hm",
      "provenance": []
    },
    "kernelspec": {
      "display_name": "Python 3",
      "name": "python3"
    },
    "language_info": {
      "codemirror_mode": {
        "name": "ipython",
        "version": 3
      },
      "file_extension": ".py",
      "mimetype": "text/x-python",
      "name": "python",
      "nbconvert_exporter": "python",
      "pygments_lexer": "ipython3",
      "version": "3.11.5"
    }
  },
  "nbformat": 4,
  "nbformat_minor": 0
}
